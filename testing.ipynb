{
 "cells": [
  {
   "cell_type": "markdown",
   "id": "4c8796ea-cf41-4514-9399-335b165dee72",
   "metadata": {},
   "source": [
    "## Testing if this commits."
   ]
  },
  {
   "cell_type": "code",
   "execution_count": null,
   "id": "b8792cae-7e2d-444c-be0c-c5f506067c70",
   "metadata": {},
   "outputs": [],
   "source": []
  }
 ],
 "metadata": {
  "kernelspec": {
   "display_name": "conda_tensorflow2_p38",
   "language": "python",
   "name": "conda_tensorflow2_p38"
  },
  "language_info": {
   "codemirror_mode": {
    "name": "ipython",
    "version": 3
   },
   "file_extension": ".py",
   "mimetype": "text/x-python",
   "name": "python",
   "nbconvert_exporter": "python",
   "pygments_lexer": "ipython3",
   "version": "3.8.12"
  }
 },
 "nbformat": 4,
 "nbformat_minor": 5
}
